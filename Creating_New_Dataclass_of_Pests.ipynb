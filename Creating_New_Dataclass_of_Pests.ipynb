{
  "nbformat": 4,
  "nbformat_minor": 0,
  "metadata": {
    "colab": {
      "provenance": [],
      "collapsed_sections": []
    },
    "kernelspec": {
      "display_name": "Python 3",
      "name": "python3"
    },
    "language_info": {
      "name": "python"
    }
  },
  "cells": [
    {
      "cell_type": "markdown",
      "metadata": {
        "id": "OLTQnConkGs5"
      },
      "source": [
        "**INSECT DETECTION IN JUTE/any other crop**\n"
      ]
    },
    {
      "cell_type": "code",
      "metadata": {
        "id": "ca12a822",
        "scrolled": true
      },
      "source": [
        "from google.colab import drive"
      ],
      "execution_count": null,
      "outputs": []
    },
    {
      "cell_type": "code",
      "metadata": {
        "colab": {
          "base_uri": "https://localhost:8080/"
        },
        "id": "3lc0d1M6DTxA",
        "outputId": "5314d053-b653-4869-ac71-f53fbb097fac"
      },
      "source": [
        "drive.mount('/content/drive')"
      ],
      "execution_count": null,
      "outputs": [
        {
          "output_type": "stream",
          "name": "stdout",
          "text": [
            "Mounted at /content/drive\n"
          ]
        }
      ]
    },
    {
      "cell_type": "code",
      "metadata": {
        "id": "m96QN9bxFCwU"
      },
      "source": [
        "import numpy as np\n",
        "import os\n",
        "import PIL\n",
        "import tensorflow as tf\n",
        "from skimage import io\n",
        "from PIL import Image\n",
        "import random\n",
        "import cv2\n",
        "import matplotlib.pyplot as plt"
      ],
      "execution_count": null,
      "outputs": []
    },
    {
      "cell_type": "code",
      "metadata": {
        "colab": {
          "base_uri": "https://localhost:8080/",
          "height": 71
        },
        "id": "yf-u_-aelh1p",
        "outputId": "640b33d2-fa0d-4201-caa3-d9106dc1b70f"
      },
      "source": [
        "#using Bing search engine to search specific class of pest of our interest\n",
        "!pip install bing-image-downloader\n",
        "from bing_image_downloader import downloader\n",
        "\n",
        "#below line, write the scientific name/name of the pest or write/define the term on how you can get the pest class. for example, here it is 'field cricket'. it can also be 'field cricket on plants'.\n",
        "downloader.download(\"field cricket\", limit=50,  output_dir='/content/drive/MyDrive/insect', #create a folder inside your drive named 'insect', limit = 50 means you will get 50 relevant images from search\n",
        "                    adult_filter_off=True, force_replace=False)"
      ],
      "execution_count": null,
      "outputs": [
        {
          "output_type": "execute_result",
          "data": {
            "application/vnd.google.colaboratory.intrinsic+json": {
              "type": "string"
            },
            "text/plain": [
              "'from bing_image_downloader import downloader\\ndownloader.download(\"field cricket insect on plants\", limit=50,  output_dir=\\'/content/drive/MyDrive/insect\\', \\n                    adult_filter_off=True, force_replace=False)\\ndownloader.download(\"Brachytrypes portentosus on plants\", limit=50,  output_dir=\\'/content/drive/MyDrive/insect\\', \\n                    adult_filter_off=True, force_replace=False)'"
            ]
          },
          "metadata": {},
          "execution_count": 5
        }
      ]
    },
    {
      "cell_type": "code",
      "metadata": {
        "id": "3UlP5H12b_bt"
      },
      "source": [
        "#data augmentation\n",
        "\n",
        "from keras.preprocessing.image import ImageDataGenerator\n",
        "from skimage import io\n",
        "datagen = ImageDataGenerator(\n",
        "        rotation_range=45,     #Random rotation between 0 and 45\n",
        "        width_shift_range=0.2,   #% shift\n",
        "        height_shift_range=0.2,\n",
        "        shear_range=0.2,\n",
        "        zoom_range=0.2,\n",
        "        horizontal_flip=True,\n",
        "        fill_mode='reflect')  \n",
        "\n",
        "x = io.imread('/content/drive/MyDrive/insect/pic24.jpg') \n",
        "#do the same for all 50 images you get from search engine\n",
        "\n",
        "\n",
        "x= x.reshape((1, ) + x.shape)\n",
        "\n",
        "i = 0\n",
        "for batch in datagen.flow(x, batch_size=16,  \n",
        "                          save_to_dir='/content/drive/MyDrive/insect/aug', \n",
        "                          save_prefix='aug_pest', \n",
        "                          save_format='jpg'):\n",
        "    \n",
        "    i += 1\n",
        "    if i > 19: #here we will get 19 images from a single image\n",
        "        break"
      ],
      "execution_count": null,
      "outputs": []
    },
    {
      "cell_type": "code",
      "metadata": {
        "id": "YRc4AUC2zpGf"
      },
      "source": [
        "#rename files within a folder\n",
        "path = os.chdir(\"/content/drive/MyDrive/jute insect classification/insect_data/হলুদ মাকড়_Yellow Mite/\")\n",
        "#set your path\n",
        "\n",
        "\n",
        "i=0\n",
        "for file in os.listdir(path):\n",
        "    \n",
        "    new_file_name=\"YM{}.jpg\".format(i)\n",
        "    os.rename(file, new_file_name)\n",
        "    \n",
        "    i=i+1"
      ],
      "execution_count": null,
      "outputs": []
    },
    {
      "cell_type": "code",
      "metadata": {
        "id": "18HWRZcsdV30"
      },
      "source": [
        "#resize images\n",
        "import os.path\n",
        "\n",
        "source_folder = '/content/drive/MyDrive/insect/yellow mite/'\n",
        "destination_folder = '/content/drive/MyDrive/insect/yellow mite re/'\n",
        "directory = os.listdir(source_folder)\n",
        "    \n",
        "for item in directory:\n",
        "    img = Image.open(source_folder + item).convert('RGB')\n",
        "    imgResize = img.resize((256,256)) \n",
        "    imgResize.save(destination_folder + item[:-4] +'.jpg', quality = 93)"
      ],
      "execution_count": null,
      "outputs": []
    },
    {
      "cell_type": "code",
      "metadata": {
        "colab": {
          "base_uri": "https://localhost:8080/"
        },
        "id": "qRktddqRepAM",
        "outputId": "983cbd6c-e444-43bf-bf49-efe601efb7f9"
      },
      "source": [
        "#counting files in folders\n",
        "import os\n",
        "\n",
        "FOLDER = '/content/drive/MyDrive/aug_insect'\n",
        "\n",
        "totalFiles = 0\n",
        "totalDir = 0\n",
        "\n",
        "for base, dirs, files in os.walk(FOLDER):\n",
        "    print('Searching in : ',base)\n",
        "    for directories in dirs:\n",
        "        totalDir += 1\n",
        "    for Files in files:\n",
        "        totalFiles += 1\n",
        "\n",
        "\n",
        "print('Total number of files',totalFiles)\n",
        "print('Total Number of directories',totalDir)\n",
        "print('Total:',(totalDir + totalFiles))"
      ],
      "execution_count": null,
      "outputs": [
        {
          "output_type": "stream",
          "name": "stdout",
          "text": [
            "Searching in :  /content/drive/MyDrive/aug_insect\n",
            "Searching in :  /content/drive/MyDrive/aug_insect/উরচুঙ্গা পোকা_Field Cricket\n",
            "Searching in :  /content/drive/MyDrive/aug_insect/চেলে পোকা_Jute Stem Weevil\n",
            "Searching in :  /content/drive/MyDrive/aug_insect/হলুদ মাকড়_Yellow Mite\n",
            "Searching in :  /content/drive/MyDrive/aug_insect/বিছা পোকা অথবা শুয়ো পোকা_Spilosoma Obliqua\n",
            "Total number of files 1606\n",
            "Total Number of directories 4\n",
            "Total: 1610\n"
          ]
        }
      ]
    }
  ]
}